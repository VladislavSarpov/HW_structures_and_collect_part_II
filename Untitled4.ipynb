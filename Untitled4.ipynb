{
 "cells": [
  {
   "cell_type": "code",
   "execution_count": 1,
   "metadata": {},
   "outputs": [
    {
     "name": "stdout",
     "output_type": "stream",
     "text": [
      "{'visit1': ['Москва', 'Россия']}\n",
      "{'visit3': ['Владимир', 'Россия']}\n",
      "{'visit7': ['Тула', 'Россия']}\n",
      "{'visit8': ['Тула', 'Россия']}\n",
      "{'visit9': ['Курск', 'Россия']}\n",
      "{'visit10': ['Архангельск', 'Россия']}\n"
     ]
    }
   ],
   "source": [
    "#Задание 1. Дан список с визитами по городам и странам. \n",
    "#Напишите код, который возвращает отфильтрованный список geo_logs, \n",
    "#содержащий только визиты из России.\n",
    "\n",
    "geo_logs = [\n",
    "    {'visit1': ['Москва', 'Россия']},\n",
    "    {'visit2': ['Дели', 'Индия']},\n",
    "    {'visit3': ['Владимир', 'Россия']},\n",
    "    {'visit4': ['Лиссабон', 'Португалия']},\n",
    "    {'visit5': ['Париж', 'Франция']},\n",
    "    {'visit6': ['Лиссабон', 'Португалия']},\n",
    "    {'visit7': ['Тула', 'Россия']},\n",
    "    {'visit8': ['Тула', 'Россия']},\n",
    "    {'visit9': ['Курск', 'Россия']},\n",
    "    {'visit10': ['Архангельск', 'Россия']}\n",
    "]\n",
    "\n",
    "for country in geo_logs:\n",
    "    for key, value in country.items(): # словарь страна - разделение на ключи и значения\n",
    "        if value[1] == 'Россия':\n",
    "            print (country)"
   ]
  },
  {
   "cell_type": "code",
   "execution_count": 2,
   "metadata": {},
   "outputs": [
    {
     "name": "stdout",
     "output_type": "stream",
     "text": [
      "[98, 35, 15, 213, 54, 119]\n"
     ]
    }
   ],
   "source": [
    "#Задание 2. Выведите на экран все уникальные гео-ID из значений словаря ids.\n",
    "# Т. е. список вида [213, 15, 54, 119, 98, 35]\n",
    "\n",
    "ids = {'user1': [213, 213, 213, 15, 213], \n",
    "       'user2': [54, 54, 119, 119, 119], \n",
    "       'user3': [213, 98, 98, 35]}\n",
    "s = set()\n",
    "for user, value in ids.items():\n",
    "    s.update(value)\n",
    "print (list (s)) \n"
   ]
  },
  {
   "cell_type": "code",
   "execution_count": 10,
   "metadata": {},
   "outputs": [
    {
     "name": "stdout",
     "output_type": "stream",
     "text": [
      "Слов: 3 . Процент от всех запросов: 57 %\n",
      "Слов: 2 . Процент от всех запросов: 42 %\n"
     ]
    }
   ],
   "source": [
    "#Задание 3. Дан список поисковых запросов. \n",
    "#Получить распределение количества слов в них. \n",
    "#Т. е. поисковых запросов из одного - слова 5%, из двух - 7%, из трех - 3% и т.д.\n",
    "\n",
    "queries = [\n",
    "    'смотреть сериалы онлайн',\n",
    "    'новости спорта',\n",
    "    'афиша кино',\n",
    "    'курс доллара',\n",
    "    'сериалы этим летом',\n",
    "    'курс по питону',\n",
    "    'сериалы про спорт',\n",
    "]\n",
    "d = dict()\n",
    "for query in queries: \n",
    "    l = len (query.split(' '))\n",
    "    if l not in d:\n",
    "        d[l] = 1\n",
    "    else:\n",
    "        d[l] += 1\n",
    "\n",
    "for key, value in d.items():\n",
    "    print('Слов:', key, '. Процент от всех запросов:', int (value / len(queries) * 100), '%')"
   ]
  },
  {
   "cell_type": "code",
   "execution_count": 12,
   "metadata": {},
   "outputs": [
    {
     "name": "stdout",
     "output_type": "stream",
     "text": [
      "{'yandex': 120}\n"
     ]
    }
   ],
   "source": [
    "#Задание 4. Дана статистика рекламных каналов по объемам продаж. \n",
    "#Напишите скрипт, который возвращает название канала с максимальным объемом. \n",
    "#Т. е. в данном примере скрипт должен возвращать 'yandex'.\n",
    "\n",
    "stats = {'facebook': 55, 'yandex': 120, 'vk': 115, 'google': 99, 'email': 42, 'ok': 98}\n",
    "\n",
    "\n",
    "stats = {'facebook': 55, 'yandex': 120, 'vk': 115, 'google': 99, 'email': 42, 'ok': 98}\n",
    "max_val = max(stats.values())\n",
    "final_dict = {key:values for key, values in stats.items() if values == max_val}\n",
    "print (final_dict)"
   ]
  },
  {
   "cell_type": "code",
   "execution_count": 15,
   "metadata": {},
   "outputs": [
    {
     "name": "stdout",
     "output_type": "stream",
     "text": [
      "{'2018-01-01': {'yandex': {'cpc': 100}}}\n"
     ]
    }
   ],
   "source": [
    "#Задание 5. Напишите код для преобразования произвольного списка вида \n",
    "#['2018-01-01', 'yandex', 'cpc', 100] (он может быть любой длины) \n",
    "#в словарь {'2018-01-01': {'yandex': {'cpc': 100}}}\n",
    "\n",
    "\n",
    "new_val = ['2018-01-01', 'yandex', 'cpc', 100] \n",
    "n = len (new_val) \n",
    "if n < 2:\n",
    "    print (\"impossible\")\n",
    "else:\n",
    "    new_dict = {new_val [n-2]: new_val[n-1]} \n",
    "    for i in reversed (range (n-2)): \n",
    "           new_dict = {new_val[i]: new_dict}  \n",
    "    print (new_dict) "
   ]
  },
  {
   "cell_type": "code",
   "execution_count": null,
   "metadata": {},
   "outputs": [],
   "source": []
  }
 ],
 "metadata": {
  "kernelspec": {
   "display_name": "Python 3",
   "language": "python",
   "name": "python3"
  },
  "language_info": {
   "codemirror_mode": {
    "name": "ipython",
    "version": 3
   },
   "file_extension": ".py",
   "mimetype": "text/x-python",
   "name": "python",
   "nbconvert_exporter": "python",
   "pygments_lexer": "ipython3",
   "version": "3.7.6"
  }
 },
 "nbformat": 4,
 "nbformat_minor": 4
}
